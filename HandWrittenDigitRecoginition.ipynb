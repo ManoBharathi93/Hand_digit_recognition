{
  "nbformat": 4,
  "nbformat_minor": 0,
  "metadata": {
    "colab": {
      "provenance": [],
      "gpuType": "T4"
    },
    "kernelspec": {
      "name": "python3",
      "display_name": "Python 3"
    },
    "language_info": {
      "name": "python"
    },
    "accelerator": "GPU"
  },
  "cells": [
    {
      "cell_type": "code",
      "execution_count": 52,
      "metadata": {
        "id": "I4Jks6RTRsn_"
      },
      "outputs": [],
      "source": [
        "import torch\n",
        "import torch.nn as nn\n",
        "import torchvision.datasets as datasets\n",
        "import torchvision.transforms as transforms\n",
        "import torch.optim as optim\n",
        "import torch.nn.functional as F\n",
        "import matplotlib.pyplot as plt\n",
        "import numpy as np"
      ]
    },
    {
      "cell_type": "code",
      "source": [
        "train_dataset = datasets.MNIST(\n",
        "    root= 'dataset/train_set',\n",
        "    transform = transforms.Compose([\n",
        "        transforms.ToTensor(),\n",
        "        transforms.Normalize((0.5,),(0.5,))\n",
        "    ]),\n",
        "    download = True\n",
        "    )\n",
        "train_loader = torch.utils.data.DataLoader(\n",
        "    train_dataset,\n",
        "    batch_size=32,\n",
        "    shuffle = True,\n",
        ")\n",
        "validation_set = datasets.MNIST(\n",
        "    root= 'dataset/test_set',\n",
        "    transform = transforms.Compose([\n",
        "        transforms.ToTensor(),\n",
        "        transforms.Normalize((0.5,),(0.5,))\n",
        "    ]),\n",
        "    download = True\n",
        "    )\n",
        "valid_loader = torch.utils.data.DataLoader(\n",
        "    validation_set,\n",
        "    batch_size=32,\n",
        "    shuffle = True,\n",
        ")"
      ],
      "metadata": {
        "colab": {
          "base_uri": "https://localhost:8080/"
        },
        "id": "8Fxby2pmS2GL",
        "outputId": "92ce4e88-47bc-4730-f0e0-0b53ccd8d35c"
      },
      "execution_count": 49,
      "outputs": [
        {
          "output_type": "stream",
          "name": "stdout",
          "text": [
            "Downloading http://yann.lecun.com/exdb/mnist/train-images-idx3-ubyte.gz\n",
            "Downloading http://yann.lecun.com/exdb/mnist/train-images-idx3-ubyte.gz to dataset/train_set/MNIST/raw/train-images-idx3-ubyte.gz\n"
          ]
        },
        {
          "output_type": "stream",
          "name": "stderr",
          "text": [
            "100%|██████████| 9912422/9912422 [00:00<00:00, 253682133.91it/s]"
          ]
        },
        {
          "output_type": "stream",
          "name": "stdout",
          "text": [
            "Extracting dataset/train_set/MNIST/raw/train-images-idx3-ubyte.gz to dataset/train_set/MNIST/raw\n"
          ]
        },
        {
          "output_type": "stream",
          "name": "stderr",
          "text": [
            "\n"
          ]
        },
        {
          "output_type": "stream",
          "name": "stdout",
          "text": [
            "\n",
            "Downloading http://yann.lecun.com/exdb/mnist/train-labels-idx1-ubyte.gz\n",
            "Downloading http://yann.lecun.com/exdb/mnist/train-labels-idx1-ubyte.gz to dataset/train_set/MNIST/raw/train-labels-idx1-ubyte.gz\n"
          ]
        },
        {
          "output_type": "stream",
          "name": "stderr",
          "text": [
            "100%|██████████| 28881/28881 [00:00<00:00, 118296576.00it/s]\n"
          ]
        },
        {
          "output_type": "stream",
          "name": "stdout",
          "text": [
            "Extracting dataset/train_set/MNIST/raw/train-labels-idx1-ubyte.gz to dataset/train_set/MNIST/raw\n",
            "\n",
            "Downloading http://yann.lecun.com/exdb/mnist/t10k-images-idx3-ubyte.gz\n",
            "Downloading http://yann.lecun.com/exdb/mnist/t10k-images-idx3-ubyte.gz to dataset/train_set/MNIST/raw/t10k-images-idx3-ubyte.gz\n"
          ]
        },
        {
          "output_type": "stream",
          "name": "stderr",
          "text": [
            "100%|██████████| 1648877/1648877 [00:00<00:00, 104716422.33it/s]"
          ]
        },
        {
          "output_type": "stream",
          "name": "stdout",
          "text": [
            "Extracting dataset/train_set/MNIST/raw/t10k-images-idx3-ubyte.gz to dataset/train_set/MNIST/raw\n",
            "\n",
            "Downloading http://yann.lecun.com/exdb/mnist/t10k-labels-idx1-ubyte.gz\n"
          ]
        },
        {
          "output_type": "stream",
          "name": "stderr",
          "text": [
            "\n"
          ]
        },
        {
          "output_type": "stream",
          "name": "stdout",
          "text": [
            "Downloading http://yann.lecun.com/exdb/mnist/t10k-labels-idx1-ubyte.gz to dataset/train_set/MNIST/raw/t10k-labels-idx1-ubyte.gz\n"
          ]
        },
        {
          "output_type": "stream",
          "name": "stderr",
          "text": [
            "100%|██████████| 4542/4542 [00:00<00:00, 7872119.33it/s]\n"
          ]
        },
        {
          "output_type": "stream",
          "name": "stdout",
          "text": [
            "Extracting dataset/train_set/MNIST/raw/t10k-labels-idx1-ubyte.gz to dataset/train_set/MNIST/raw\n",
            "\n",
            "Downloading http://yann.lecun.com/exdb/mnist/train-images-idx3-ubyte.gz\n",
            "Downloading http://yann.lecun.com/exdb/mnist/train-images-idx3-ubyte.gz to dataset/test_set/MNIST/raw/train-images-idx3-ubyte.gz\n"
          ]
        },
        {
          "output_type": "stream",
          "name": "stderr",
          "text": [
            "100%|██████████| 9912422/9912422 [00:00<00:00, 261451218.06it/s]\n"
          ]
        },
        {
          "output_type": "stream",
          "name": "stdout",
          "text": [
            "Extracting dataset/test_set/MNIST/raw/train-images-idx3-ubyte.gz to dataset/test_set/MNIST/raw\n",
            "\n",
            "Downloading http://yann.lecun.com/exdb/mnist/train-labels-idx1-ubyte.gz\n",
            "Downloading http://yann.lecun.com/exdb/mnist/train-labels-idx1-ubyte.gz to dataset/test_set/MNIST/raw/train-labels-idx1-ubyte.gz\n"
          ]
        },
        {
          "output_type": "stream",
          "name": "stderr",
          "text": [
            "100%|██████████| 28881/28881 [00:00<00:00, 48963497.91it/s]\n"
          ]
        },
        {
          "output_type": "stream",
          "name": "stdout",
          "text": [
            "Extracting dataset/test_set/MNIST/raw/train-labels-idx1-ubyte.gz to dataset/test_set/MNIST/raw\n",
            "\n",
            "Downloading http://yann.lecun.com/exdb/mnist/t10k-images-idx3-ubyte.gz\n",
            "Downloading http://yann.lecun.com/exdb/mnist/t10k-images-idx3-ubyte.gz to dataset/test_set/MNIST/raw/t10k-images-idx3-ubyte.gz\n"
          ]
        },
        {
          "output_type": "stream",
          "name": "stderr",
          "text": [
            "100%|██████████| 1648877/1648877 [00:00<00:00, 98081055.66it/s]"
          ]
        },
        {
          "output_type": "stream",
          "name": "stdout",
          "text": [
            "Extracting dataset/test_set/MNIST/raw/t10k-images-idx3-ubyte.gz to dataset/test_set/MNIST/raw\n",
            "\n",
            "Downloading http://yann.lecun.com/exdb/mnist/t10k-labels-idx1-ubyte.gz\n",
            "Downloading http://yann.lecun.com/exdb/mnist/t10k-labels-idx1-ubyte.gz to dataset/test_set/MNIST/raw/t10k-labels-idx1-ubyte.gz\n"
          ]
        },
        {
          "output_type": "stream",
          "name": "stderr",
          "text": [
            "\n",
            "100%|██████████| 4542/4542 [00:00<00:00, 21599238.97it/s]\n"
          ]
        },
        {
          "output_type": "stream",
          "name": "stdout",
          "text": [
            "Extracting dataset/test_set/MNIST/raw/t10k-labels-idx1-ubyte.gz to dataset/test_set/MNIST/raw\n",
            "\n"
          ]
        }
      ]
    },
    {
      "cell_type": "code",
      "source": [
        "dataiter = iter(train_loader)\n",
        "images,labels = next(dataiter)\n",
        "images.shape, labels.shape"
      ],
      "metadata": {
        "colab": {
          "base_uri": "https://localhost:8080/"
        },
        "id": "xlCnXMSoc3ZR",
        "outputId": "9b740099-cc92-449c-f3fe-f0a859072ff6"
      },
      "execution_count": 51,
      "outputs": [
        {
          "output_type": "execute_result",
          "data": {
            "text/plain": [
              "(torch.Size([32, 1, 28, 28]), torch.Size([32]))"
            ]
          },
          "metadata": {},
          "execution_count": 51
        }
      ]
    },
    {
      "cell_type": "code",
      "source": [
        "plt.imshow(images[0].numpy().squeeze(),cmap='gray_r')"
      ],
      "metadata": {
        "colab": {
          "base_uri": "https://localhost:8080/",
          "height": 448
        },
        "id": "tE1rJ4zCj3jT",
        "outputId": "556ce70d-a0d7-4766-a82f-636ce6a092ca"
      },
      "execution_count": 54,
      "outputs": [
        {
          "output_type": "execute_result",
          "data": {
            "text/plain": [
              "<matplotlib.image.AxesImage at 0x7f8f08db4e50>"
            ]
          },
          "metadata": {},
          "execution_count": 54
        },
        {
          "output_type": "display_data",
          "data": {
            "text/plain": [
              "<Figure size 640x480 with 1 Axes>"
            ],
            "image/png": "[encoded data removed]"
          },
          "metadata": {}
        }
      ]
    },
    {
      "cell_type": "code",
      "source": [
        "input_size = 784\n",
        "hidden_sizes = [128, 64]\n",
        "output_size = 10\n",
        "\n",
        "model = nn.Sequential(nn.Linear(input_size, hidden_sizes[0]),\n",
        "                      nn.ReLU(),\n",
        "                      nn.Linear(hidden_sizes[0], hidden_sizes[1]),\n",
        "                      nn.ReLU(),\n",
        "                      nn.Linear(hidden_sizes[1], output_size),\n",
        "                      nn.LogSoftmax(dim=1))\n",
        "print(model)"
      ],
      "metadata": {
        "colab": {
          "base_uri": "https://localhost:8080/"
        },
        "id": "YS_0DYiEU0EJ",
        "outputId": "60a88158-5344-483f-d6af-22fdf14a0467"
      },
      "execution_count": 56,
      "outputs": [
        {
          "output_type": "stream",
          "name": "stdout",
          "text": [
            "Sequential(\n",
            "  (0): Linear(in_features=784, out_features=128, bias=True)\n",
            "  (1): ReLU()\n",
            "  (2): Linear(in_features=128, out_features=64, bias=True)\n",
            "  (3): ReLU()\n",
            "  (4): Linear(in_features=64, out_features=10, bias=True)\n",
            "  (5): LogSoftmax(dim=1)\n",
            ")\n"
          ]
        }
      ]
    },
    {
      "cell_type": "code",
      "source": [
        "epochs= 10\n",
        "batch_size = 32\n",
        "lr = 0.001\n",
        "optimizer = optim.SGD(model.parameters(),lr,momentum=0.09)\n",
        "loss_fn = nn.NLLLoss() # negative log-likeihood loss\n"
      ],
      "metadata": {
        "id": "bJW4pL6dbFoh"
      },
      "execution_count": 58,
      "outputs": []
    },
    {
      "cell_type": "code",
      "source": [
        "loss_log = []\n",
        "acc_log = []\n",
        "\n",
        "for epoch in range(10):\n",
        "  for i,(images,labels) in enumerate(train_loader):\n",
        "     images= images.view(images.shape[0], -1)\n",
        "     output = model(images)\n",
        "     loss = loss_fn(output,labels)\n",
        "     optimizer.zero_grad()\n",
        "     loss.backward()\n",
        "     optimizer.step()\n",
        "\n",
        "     if i % 100 ==0:\n",
        "        print(loss.item())\n"
      ],
      "metadata": {
        "colab": {
          "base_uri": "https://localhost:8080/"
        },
        "id": "r_DRhkptbUSQ",
        "outputId": "7d431d20-666c-4ce6-8a67-1dc3d82bb357"
      },
      "execution_count": 61,
      "outputs": [
        {
          "output_type": "stream",
          "name": "stdout",
          "text": [
            "2.3615574836730957\n",
            "2.286433696746826\n",
            "2.2572836875915527\n",
            "2.2326695919036865\n",
            "2.2098824977874756\n",
            "2.245940685272217\n",
            "2.163888692855835\n",
            "2.166975736618042\n",
            "2.058499813079834\n",
            "2.1297595500946045\n",
            "2.0621511936187744\n",
            "2.0891332626342773\n",
            "1.9700419902801514\n",
            "2.035421133041382\n",
            "1.8768450021743774\n",
            "1.8086036443710327\n",
            "1.7898861169815063\n",
            "1.6917438507080078\n",
            "1.6616322994232178\n",
            "1.727049708366394\n",
            "1.732284665107727\n",
            "1.5840409994125366\n",
            "1.3847278356552124\n",
            "1.407454013824463\n",
            "1.3388137817382812\n",
            "1.315281867980957\n",
            "1.3950457572937012\n",
            "1.3158386945724487\n",
            "1.1964689493179321\n",
            "1.1387786865234375\n",
            "0.958419144153595\n",
            "0.8685439229011536\n",
            "1.0893999338150024\n",
            "1.1083135604858398\n",
            "0.9737551808357239\n",
            "0.854360818862915\n",
            "1.109726071357727\n",
            "0.6871156692504883\n",
            "0.6277971863746643\n",
            "0.8794075846672058\n",
            "0.6671947836875916\n",
            "0.7266063690185547\n",
            "0.5981377959251404\n",
            "0.6016160249710083\n",
            "0.8151454925537109\n",
            "0.6697225570678711\n",
            "0.6144267916679382\n",
            "0.6130010485649109\n",
            "0.5973039865493774\n",
            "0.9586896300315857\n",
            "0.43918338418006897\n",
            "0.8600484132766724\n",
            "0.5070371627807617\n",
            "0.5897756814956665\n",
            "0.552769660949707\n",
            "0.5282719731330872\n",
            "0.6747832298278809\n",
            "0.4410252869129181\n",
            "0.4929031729698181\n",
            "0.496433287858963\n",
            "0.43076422810554504\n",
            "0.5471311807632446\n",
            "0.35276949405670166\n",
            "0.5782033205032349\n",
            "0.5940697193145752\n",
            "0.8347942233085632\n",
            "0.5644857287406921\n",
            "0.9407975673675537\n",
            "0.36236876249313354\n",
            "0.507535994052887\n",
            "0.3316275179386139\n",
            "0.5620511770248413\n",
            "0.3286895751953125\n",
            "0.43873870372772217\n",
            "0.48323869705200195\n",
            "0.577131450176239\n",
            "0.3447951078414917\n",
            "0.2558969557285309\n",
            "0.4276428818702698\n",
            "0.38983216881752014\n",
            "0.40959128737449646\n",
            "0.3420766592025757\n",
            "0.5326358079910278\n",
            "0.6611890196800232\n",
            "0.4390960931777954\n",
            "0.6481665968894958\n",
            "0.4742533266544342\n",
            "0.28715091943740845\n",
            "0.4343772232532501\n",
            "0.3088824152946472\n",
            "0.5432809591293335\n",
            "0.5331553816795349\n",
            "0.37426039576530457\n",
            "0.24850331246852875\n",
            "0.6292692422866821\n",
            "0.5159828662872314\n",
            "0.33589473366737366\n",
            "0.18052026629447937\n",
            "0.23696047067642212\n",
            "0.43381401896476746\n",
            "0.26168379187583923\n",
            "0.22295698523521423\n",
            "0.4302573502063751\n",
            "0.4795492887496948\n",
            "0.392691433429718\n",
            "0.25858867168426514\n",
            "0.43426358699798584\n",
            "0.37492433190345764\n",
            "0.43313542008399963\n",
            "0.2662971019744873\n",
            "0.5053835511207581\n",
            "0.333139568567276\n",
            "0.3221128582954407\n",
            "0.31860944628715515\n",
            "0.3868491053581238\n",
            "0.6981658935546875\n",
            "0.20757269859313965\n",
            "0.44476211071014404\n",
            "0.5467857122421265\n",
            "0.276073157787323\n",
            "0.34606504440307617\n",
            "0.5664177536964417\n",
            "0.513360321521759\n",
            "0.5477190017700195\n",
            "0.29728963971138\n",
            "0.40410667657852173\n",
            "0.3897230923175812\n",
            "0.2882787585258484\n",
            "0.21175538003444672\n",
            "0.3041223883628845\n",
            "0.33896690607070923\n",
            "0.4214203953742981\n",
            "0.2724708020687103\n",
            "0.2692578136920929\n",
            "0.3879920542240143\n",
            "0.266876757144928\n",
            "0.5408127903938293\n",
            "0.3350873589515686\n",
            "0.28385335206985474\n",
            "0.1685487926006317\n",
            "0.41076746582984924\n",
            "0.2838141918182373\n",
            "0.3480856418609619\n",
            "0.35468894243240356\n",
            "0.21393822133541107\n",
            "0.3276199996471405\n",
            "0.2490808665752411\n",
            "0.3135595917701721\n",
            "0.259825199842453\n",
            "0.5364381074905396\n",
            "0.22901448607444763\n",
            "0.36738714575767517\n",
            "0.11027344316244125\n",
            "0.3070451617240906\n",
            "0.4127030372619629\n",
            "0.10208408534526825\n",
            "0.6910985708236694\n",
            "0.5638660192489624\n",
            "0.4002250134944916\n",
            "0.4596453309059143\n",
            "0.41750645637512207\n",
            "0.36086469888687134\n",
            "0.26331040263175964\n",
            "0.1608535647392273\n",
            "0.537582278251648\n",
            "0.28985413908958435\n",
            "0.7655467391014099\n",
            "0.38188523054122925\n",
            "0.31227177381515503\n",
            "0.24827823042869568\n",
            "0.4919802248477936\n",
            "0.3958067297935486\n",
            "0.13728797435760498\n",
            "0.39281532168388367\n",
            "0.10445241630077362\n",
            "0.16475552320480347\n",
            "0.3802061676979065\n",
            "0.4296514093875885\n",
            "0.17742468416690826\n",
            "0.2885763347148895\n",
            "0.3447045087814331\n",
            "0.4263676404953003\n",
            "0.2636500597000122\n",
            "0.25200968980789185\n",
            "0.2544983923435211\n",
            "0.22824518382549286\n",
            "0.23492269217967987\n",
            "0.29336702823638916\n",
            "0.20932605862617493\n",
            "0.17599618434906006\n"
          ]
        }
      ]
    },
    {
      "cell_type": "code",
      "source": [
        "# Test the model\n",
        "images,labels = next(iter(valid_loader))\n",
        "img = images[0].view(1,784)\n",
        "\n",
        "with torch.no_grad():\n",
        "   out = model(img)\n",
        "ps = torch.exp(out)\n",
        "probab = list(ps.numpy()[0])\n",
        "print(\"Predicted Digit =\", probab.index(max(probab)))\n"
      ],
      "metadata": {
        "colab": {
          "base_uri": "https://localhost:8080/"
        },
        "id": "SwNYaPSTb4ZQ",
        "outputId": "d0d7c789-8140-4ea9-c53a-9252642b6696"
      },
      "execution_count": 67,
      "outputs": [
        {
          "output_type": "stream",
          "name": "stdout",
          "text": [
            "Predicted Digit = 0\n"
          ]
        }
      ]
    },
    {
      "cell_type": "code",
      "source": [
        "correct_count, all_count = 0, 0\n",
        "for images,labels in valid_loader:\n",
        "  for i in range(len(labels)):\n",
        "    img = images[i].view(1, 784)\n",
        "    with torch.no_grad():\n",
        "        logps = model(img)\n",
        "\n",
        "\n",
        "    ps = torch.exp(logps)\n",
        "    probab = list(ps.numpy()[0])\n",
        "    pred_label = probab.index(max(probab))\n",
        "    true_label = labels.numpy()[i]\n",
        "    if(true_label == pred_label):\n",
        "      correct_count += 1\n",
        "    all_count += 1\n",
        "\n",
        "print(\"Number Of Images Tested =\", all_count)\n",
        "print(\"\\nModel Accuracy =\", (correct_count/all_count))"
      ],
      "metadata": {
        "colab": {
          "base_uri": "https://localhost:8080/"
        },
        "id": "leYYcXcdgB0B",
        "outputId": "137ae324-acee-495e-e5dc-4e6deabcb0f5"
      },
      "execution_count": 68,
      "outputs": [
        {
          "output_type": "stream",
          "name": "stdout",
          "text": [
            "Number Of Images Tested = 60000\n",
            "\n",
            "Model Accuracy = 0.90675\n"
          ]
        }
      ]
    },
    {
      "cell_type": "code",
      "source": [],
      "metadata": {
        "id": "vY9FAlkam3Yq"
      },
      "execution_count": null,
      "outputs": []
    }
  ]
}